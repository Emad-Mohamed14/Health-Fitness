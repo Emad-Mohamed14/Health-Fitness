{
  "cells": [
    {
      "cell_type": "code",
      "execution_count": 2,
      "metadata": {
        "colab": {
          "base_uri": "https://localhost:8080/"
        },
        "id": "8cKtOJFl8NT8",
        "outputId": "4a065157-1254-4335-e331-be1b15228741"
      },
      "outputs": [
        {
          "name": "stdout",
          "output_type": "stream",
          "text": [
            "Mounted at /content/gdrive\n"
          ]
        }
      ],
      "source": [
        "from google.colab import drive\n",
        "drive.mount('/content/gdrive')"
      ]
    },
    {
      "cell_type": "code",
      "execution_count": 3,
      "metadata": {
        "id": "Ot1meINm6O86"
      },
      "outputs": [],
      "source": [
        "import pandas as pd\n",
        "from sklearn.preprocessing import StandardScaler\n",
        "from sklearn.impute import SimpleImputer\n",
        "\n",
        "# Load the dataset\n",
        "data = pd.read_csv('/content/gdrive/MyDrive/Sleep_health_and_lifestyle_dataset.csv')\n",
        "\n",
        "# Handle missing values\n",
        "imputer = SimpleImputer(strategy='mean')\n",
        "data['Sleep Disorder'].fillna('None', inplace=True)\n",
        "data[['Sleep Duration', 'Quality of Sleep', 'Physical Activity Level', 'Stress Level', 'Heart Rate']] = imputer.fit_transform(data[['Sleep Duration', 'Quality of Sleep', 'Physical Activity Level', 'Stress Level', 'Heart Rate']])\n",
        "\n",
        "# One-hot encode categorical variables\n",
        "data = pd.get_dummies(data, columns=['Gender', 'Occupation', 'BMI Category'], drop_first=True)\n",
        "\n",
        "# Normalize numerical variables\n",
        "scaler = StandardScaler()\n",
        "data[['Sleep Duration', 'Quality of Sleep', 'Physical Activity Level', 'Stress Level', 'Heart Rate']] = scaler.fit_transform(data[['Sleep Duration', 'Quality of Sleep', 'Physical Activity Level', 'Stress Level', 'Heart Rate']])\n",
        "\n",
        "# Splitting the data (assuming X contains features and y contains target variable)\n",
        "X = data.drop('Sleep Disorder', axis=1)\n",
        "y = data['Sleep Disorder']\n"
      ]
    },
    {
      "cell_type": "code",
      "execution_count": 4,
      "metadata": {
        "id": "A1m7zULRakH_"
      },
      "outputs": [],
      "source": [
        "# Splitting the 'Blood Pressure' column into 'Systolic' and 'Diastolic' components\n",
        "data[['Systolic', 'Diastolic']] = data['Blood Pressure'].str.split('/', expand=True)\n",
        "\n",
        "# Converting the new columns to numeric format\n",
        "data['Systolic'] = pd.to_numeric(data['Systolic'])\n",
        "data['Diastolic'] = pd.to_numeric(data['Diastolic'])\n",
        "\n",
        "# Now, we drop the original 'Blood Pressure' column\n",
        "data.drop('Blood Pressure', axis=1, inplace=True)\n"
      ]
    },
    {
      "cell_type": "code",
      "execution_count": 12,
      "metadata": {
        "colab": {
          "base_uri": "https://localhost:8080/"
        },
        "id": "76biv-WL-rAu",
        "outputId": "df3c25bf-87f6-4992-d1d5-e20cbf84eb2c"
      },
      "outputs": [
        {
          "name": "stdout",
          "output_type": "stream",
          "text": [
            "Mean Absolute Error for Linear Regression: 440.1070366393474\n",
            "Mean Absolute Error for Lasso: 441.2399676235358\n",
            "Mean Absolute Error for Ridge: 435.6088616725896\n",
            "Mean Absolute Error for K-Neighbors Regressor: 124.53333333333333\n",
            "Mean Absolute Error for Decision Tree: 26.666666666666668\n",
            "Mean Absolute Error for Random Forest Regressor: 69.22666666666667\n",
            "Mean Absolute Error for XGBRegressor: 43.9827734375\n",
            "Mean Absolute Error for AdaBoost Regressor: 364.2874104840585\n"
          ]
        }
      ],
      "source": [
        "from sklearn.model_selection import train_test_split\n",
        "from sklearn.linear_model import LinearRegression, Lasso, Ridge\n",
        "from sklearn.neighbors import KNeighborsRegressor\n",
        "from sklearn.tree import DecisionTreeRegressor\n",
        "from sklearn.ensemble import RandomForestRegressor, AdaBoostRegressor\n",
        "from xgboost import XGBRegressor\n",
        "\n",
        "from sklearn.svm import SVR\n",
        "from sklearn.metrics import mean_absolute_error\n",
        "import numpy as np\n",
        "\n",
        "# Extracting the independent variables and dependent variable\n",
        "X = data[['Gender_Male', 'Age', 'Occupation_Sales Representative', 'Occupation_Software Engineer', 'Occupation_Teacher', 'Physical Activity Level', 'Stress Level', 'BMI Category_Overweight', 'BMI Category_Obese', 'Systolic', 'Diastolic', 'Heart Rate']]\n",
        "y = data['Daily Steps']\n",
        "\n",
        "# Splitting the data into training and testing sets\n",
        "X_train, X_test, y_train, y_test = train_test_split(X, y, test_size=0.2, random_state=42)\n",
        "\n",
        "\n",
        "\n",
        "regressors = {\n",
        "    \"Linear Regression\": LinearRegression(),\n",
        "    \"Lasso\": Lasso(),\n",
        "    \"Ridge\": Ridge(),\n",
        "    \"K-Neighbors Regressor\": KNeighborsRegressor(),\n",
        "    \"Decision Tree\": DecisionTreeRegressor(),\n",
        "    \"Random Forest Regressor\": RandomForestRegressor(random_state=42),\n",
        "    \"XGBRegressor\": XGBRegressor(objective='reg:squarederror'),\n",
        "    \"AdaBoost Regressor\": AdaBoostRegressor(),\n",
        "}\n",
        "\n",
        "# Train each regressor and make predictions\n",
        "y_preds = {}\n",
        "for name, regressor in regressors.items():\n",
        "    regressor.fit(X_train, y_train)\n",
        "    y_preds[name] = regressor.predict(X_test)\n",
        "\n",
        "# Compute mean of predictions from all regressors except CatBoost\n",
        "all_preds = np.array(list(y_preds.values()))\n",
        "y_pred_mean = np.mean(all_preds, axis=0)\n",
        "\n",
        "# Round off the predicted 'Daily Steps' values to the nearest 100 factor\n",
        "y_pred_rounded = np.round(y_pred_mean, -2)\n",
        "\n",
        "# Evaluate the performance of the regressors\n",
        "maes = {}\n",
        "for name, y_pred in y_preds.items():\n",
        "    mae = mean_absolute_error(y_test, y_pred)\n",
        "    maes[name] = mae\n",
        "\n",
        "# Print MAE for each regressor\n",
        "for name, mae in maes.items():\n",
        "    print(f\"Mean Absolute Error for {name}: {mae}\")\n"
      ]
    },
    {
      "cell_type": "markdown",
      "metadata": {
        "id": "bakj_wUxG5Zj"
      },
      "source": [
        "Decision Tree Produced the Least Mean Absolute Error"
      ]
    },
    {
      "cell_type": "code",
      "execution_count": 13,
      "metadata": {
        "colab": {
          "base_uri": "https://localhost:8080/"
        },
        "id": "MPh-RF_1G_jM",
        "outputId": "57ca8411-60c3-498d-9911-5ec0e3a5f7b3"
      },
      "outputs": [
        {
          "name": "stdout",
          "output_type": "stream",
          "text": [
            "Fitting 5 folds for each of 32 candidates, totalling 160 fits\n"
          ]
        },
        {
          "name": "stderr",
          "output_type": "stream",
          "text": [
            "/usr/local/lib/python3.10/dist-packages/sklearn/tree/_classes.py:277: FutureWarning: `max_features='auto'` has been deprecated in 1.1 and will be removed in 1.3. To keep the past behaviour, explicitly set `max_features=1.0'`.\n",
            "  warnings.warn(\n",
            "/usr/local/lib/python3.10/dist-packages/sklearn/tree/_classes.py:277: FutureWarning: `max_features='auto'` has been deprecated in 1.1 and will be removed in 1.3. To keep the past behaviour, explicitly set `max_features=1.0'`.\n",
            "  warnings.warn(\n",
            "/usr/local/lib/python3.10/dist-packages/sklearn/tree/_classes.py:277: FutureWarning: `max_features='auto'` has been deprecated in 1.1 and will be removed in 1.3. To keep the past behaviour, explicitly set `max_features=1.0'`.\n",
            "  warnings.warn(\n",
            "/usr/local/lib/python3.10/dist-packages/sklearn/tree/_classes.py:277: FutureWarning: `max_features='auto'` has been deprecated in 1.1 and will be removed in 1.3. To keep the past behaviour, explicitly set `max_features=1.0'`.\n",
            "  warnings.warn(\n",
            "/usr/local/lib/python3.10/dist-packages/sklearn/tree/_classes.py:277: FutureWarning: `max_features='auto'` has been deprecated in 1.1 and will be removed in 1.3. To keep the past behaviour, explicitly set `max_features=1.0'`.\n",
            "  warnings.warn(\n",
            "/usr/local/lib/python3.10/dist-packages/sklearn/tree/_classes.py:277: FutureWarning: `max_features='auto'` has been deprecated in 1.1 and will be removed in 1.3. To keep the past behaviour, explicitly set `max_features=1.0'`.\n",
            "  warnings.warn(\n",
            "/usr/local/lib/python3.10/dist-packages/sklearn/tree/_classes.py:277: FutureWarning: `max_features='auto'` has been deprecated in 1.1 and will be removed in 1.3. To keep the past behaviour, explicitly set `max_features=1.0'`.\n",
            "  warnings.warn(\n",
            "/usr/local/lib/python3.10/dist-packages/sklearn/tree/_classes.py:277: FutureWarning: `max_features='auto'` has been deprecated in 1.1 and will be removed in 1.3. To keep the past behaviour, explicitly set `max_features=1.0'`.\n",
            "  warnings.warn(\n",
            "/usr/local/lib/python3.10/dist-packages/sklearn/tree/_classes.py:277: FutureWarning: `max_features='auto'` has been deprecated in 1.1 and will be removed in 1.3. To keep the past behaviour, explicitly set `max_features=1.0'`.\n",
            "  warnings.warn(\n",
            "/usr/local/lib/python3.10/dist-packages/sklearn/tree/_classes.py:277: FutureWarning: `max_features='auto'` has been deprecated in 1.1 and will be removed in 1.3. To keep the past behaviour, explicitly set `max_features=1.0'`.\n",
            "  warnings.warn(\n",
            "/usr/local/lib/python3.10/dist-packages/sklearn/tree/_classes.py:277: FutureWarning: `max_features='auto'` has been deprecated in 1.1 and will be removed in 1.3. To keep the past behaviour, explicitly set `max_features=1.0'`.\n",
            "  warnings.warn(\n",
            "/usr/local/lib/python3.10/dist-packages/sklearn/tree/_classes.py:277: FutureWarning: `max_features='auto'` has been deprecated in 1.1 and will be removed in 1.3. To keep the past behaviour, explicitly set `max_features=1.0'`.\n",
            "  warnings.warn(\n",
            "/usr/local/lib/python3.10/dist-packages/sklearn/tree/_classes.py:277: FutureWarning: `max_features='auto'` has been deprecated in 1.1 and will be removed in 1.3. To keep the past behaviour, explicitly set `max_features=1.0'`.\n",
            "  warnings.warn(\n",
            "/usr/local/lib/python3.10/dist-packages/sklearn/tree/_classes.py:277: FutureWarning: `max_features='auto'` has been deprecated in 1.1 and will be removed in 1.3. To keep the past behaviour, explicitly set `max_features=1.0'`.\n",
            "  warnings.warn(\n",
            "/usr/local/lib/python3.10/dist-packages/sklearn/tree/_classes.py:277: FutureWarning: `max_features='auto'` has been deprecated in 1.1 and will be removed in 1.3. To keep the past behaviour, explicitly set `max_features=1.0'`.\n",
            "  warnings.warn(\n",
            "/usr/local/lib/python3.10/dist-packages/sklearn/tree/_classes.py:277: FutureWarning: `max_features='auto'` has been deprecated in 1.1 and will be removed in 1.3. To keep the past behaviour, explicitly set `max_features=1.0'`.\n",
            "  warnings.warn(\n",
            "/usr/local/lib/python3.10/dist-packages/sklearn/tree/_classes.py:277: FutureWarning: `max_features='auto'` has been deprecated in 1.1 and will be removed in 1.3. To keep the past behaviour, explicitly set `max_features=1.0'`.\n",
            "  warnings.warn(\n",
            "/usr/local/lib/python3.10/dist-packages/sklearn/tree/_classes.py:277: FutureWarning: `max_features='auto'` has been deprecated in 1.1 and will be removed in 1.3. To keep the past behaviour, explicitly set `max_features=1.0'`.\n",
            "  warnings.warn(\n",
            "/usr/local/lib/python3.10/dist-packages/sklearn/tree/_classes.py:277: FutureWarning: `max_features='auto'` has been deprecated in 1.1 and will be removed in 1.3. To keep the past behaviour, explicitly set `max_features=1.0'`.\n",
            "  warnings.warn(\n",
            "/usr/local/lib/python3.10/dist-packages/sklearn/tree/_classes.py:277: FutureWarning: `max_features='auto'` has been deprecated in 1.1 and will be removed in 1.3. To keep the past behaviour, explicitly set `max_features=1.0'`.\n",
            "  warnings.warn(\n",
            "/usr/local/lib/python3.10/dist-packages/sklearn/tree/_classes.py:277: FutureWarning: `max_features='auto'` has been deprecated in 1.1 and will be removed in 1.3. To keep the past behaviour, explicitly set `max_features=1.0'`.\n",
            "  warnings.warn(\n",
            "/usr/local/lib/python3.10/dist-packages/sklearn/tree/_classes.py:277: FutureWarning: `max_features='auto'` has been deprecated in 1.1 and will be removed in 1.3. To keep the past behaviour, explicitly set `max_features=1.0'`.\n",
            "  warnings.warn(\n",
            "/usr/local/lib/python3.10/dist-packages/sklearn/tree/_classes.py:277: FutureWarning: `max_features='auto'` has been deprecated in 1.1 and will be removed in 1.3. To keep the past behaviour, explicitly set `max_features=1.0'`.\n",
            "  warnings.warn(\n",
            "/usr/local/lib/python3.10/dist-packages/sklearn/tree/_classes.py:277: FutureWarning: `max_features='auto'` has been deprecated in 1.1 and will be removed in 1.3. To keep the past behaviour, explicitly set `max_features=1.0'`.\n",
            "  warnings.warn(\n",
            "/usr/local/lib/python3.10/dist-packages/sklearn/tree/_classes.py:277: FutureWarning: `max_features='auto'` has been deprecated in 1.1 and will be removed in 1.3. To keep the past behaviour, explicitly set `max_features=1.0'`.\n",
            "  warnings.warn(\n",
            "/usr/local/lib/python3.10/dist-packages/sklearn/tree/_classes.py:277: FutureWarning: `max_features='auto'` has been deprecated in 1.1 and will be removed in 1.3. To keep the past behaviour, explicitly set `max_features=1.0'`.\n",
            "  warnings.warn(\n",
            "/usr/local/lib/python3.10/dist-packages/sklearn/tree/_classes.py:277: FutureWarning: `max_features='auto'` has been deprecated in 1.1 and will be removed in 1.3. To keep the past behaviour, explicitly set `max_features=1.0'`.\n",
            "  warnings.warn(\n",
            "/usr/local/lib/python3.10/dist-packages/sklearn/tree/_classes.py:277: FutureWarning: `max_features='auto'` has been deprecated in 1.1 and will be removed in 1.3. To keep the past behaviour, explicitly set `max_features=1.0'`.\n",
            "  warnings.warn(\n",
            "/usr/local/lib/python3.10/dist-packages/sklearn/tree/_classes.py:277: FutureWarning: `max_features='auto'` has been deprecated in 1.1 and will be removed in 1.3. To keep the past behaviour, explicitly set `max_features=1.0'`.\n",
            "  warnings.warn(\n",
            "/usr/local/lib/python3.10/dist-packages/sklearn/tree/_classes.py:277: FutureWarning: `max_features='auto'` has been deprecated in 1.1 and will be removed in 1.3. To keep the past behaviour, explicitly set `max_features=1.0'`.\n",
            "  warnings.warn(\n",
            "/usr/local/lib/python3.10/dist-packages/sklearn/tree/_classes.py:277: FutureWarning: `max_features='auto'` has been deprecated in 1.1 and will be removed in 1.3. To keep the past behaviour, explicitly set `max_features=1.0'`.\n",
            "  warnings.warn(\n",
            "/usr/local/lib/python3.10/dist-packages/sklearn/tree/_classes.py:277: FutureWarning: `max_features='auto'` has been deprecated in 1.1 and will be removed in 1.3. To keep the past behaviour, explicitly set `max_features=1.0'`.\n",
            "  warnings.warn(\n",
            "/usr/local/lib/python3.10/dist-packages/sklearn/tree/_classes.py:277: FutureWarning: `max_features='auto'` has been deprecated in 1.1 and will be removed in 1.3. To keep the past behaviour, explicitly set `max_features=1.0'`.\n",
            "  warnings.warn(\n",
            "/usr/local/lib/python3.10/dist-packages/sklearn/tree/_classes.py:277: FutureWarning: `max_features='auto'` has been deprecated in 1.1 and will be removed in 1.3. To keep the past behaviour, explicitly set `max_features=1.0'`.\n",
            "  warnings.warn(\n",
            "/usr/local/lib/python3.10/dist-packages/sklearn/tree/_classes.py:277: FutureWarning: `max_features='auto'` has been deprecated in 1.1 and will be removed in 1.3. To keep the past behaviour, explicitly set `max_features=1.0'`.\n",
            "  warnings.warn(\n",
            "/usr/local/lib/python3.10/dist-packages/sklearn/tree/_classes.py:277: FutureWarning: `max_features='auto'` has been deprecated in 1.1 and will be removed in 1.3. To keep the past behaviour, explicitly set `max_features=1.0'`.\n",
            "  warnings.warn(\n",
            "/usr/local/lib/python3.10/dist-packages/sklearn/tree/_classes.py:277: FutureWarning: `max_features='auto'` has been deprecated in 1.1 and will be removed in 1.3. To keep the past behaviour, explicitly set `max_features=1.0'`.\n",
            "  warnings.warn(\n",
            "/usr/local/lib/python3.10/dist-packages/sklearn/tree/_classes.py:277: FutureWarning: `max_features='auto'` has been deprecated in 1.1 and will be removed in 1.3. To keep the past behaviour, explicitly set `max_features=1.0'`.\n",
            "  warnings.warn(\n",
            "/usr/local/lib/python3.10/dist-packages/sklearn/tree/_classes.py:277: FutureWarning: `max_features='auto'` has been deprecated in 1.1 and will be removed in 1.3. To keep the past behaviour, explicitly set `max_features=1.0'`.\n",
            "  warnings.warn(\n",
            "/usr/local/lib/python3.10/dist-packages/sklearn/tree/_classes.py:277: FutureWarning: `max_features='auto'` has been deprecated in 1.1 and will be removed in 1.3. To keep the past behaviour, explicitly set `max_features=1.0'`.\n",
            "  warnings.warn(\n"
          ]
        },
        {
          "name": "stdout",
          "output_type": "stream",
          "text": [
            "Best Parameters: {'criterion': 'absolute_error', 'max_features': 'sqrt', 'splitter': 'random'}\n",
            "Best Mean Absolute Error: 82.56497175141244\n",
            "Mean Absolute Error on Test Set: 62.666666666666664\n"
          ]
        }
      ],
      "source": [
        "from sklearn.tree import DecisionTreeRegressor\n",
        "from sklearn.model_selection import GridSearchCV\n",
        "from sklearn.metrics import mean_absolute_error\n",
        "\n",
        "# Define the Decision Tree regressor\n",
        "regressor_dt = DecisionTreeRegressor(random_state=42)\n",
        "\n",
        "# Define the parameter grid\n",
        "params = {\n",
        "    'criterion': ['friedman_mse', 'absolute_error', 'poisson', 'squared_error'],  # Criterion for splitting\n",
        "    'splitter': ['best', 'random'],  # Split strategy\n",
        "    'max_features': ['auto', 'sqrt', 'log2', None],  # Number of features to consider\n",
        "}\n",
        "\n",
        "# Instantiate GridSearchCV\n",
        "grid_search = GridSearchCV(estimator=regressor_dt, param_grid=params, scoring='neg_mean_absolute_error', cv=5, verbose=1)\n",
        "\n",
        "# Perform GridSearchCV to find the best parameters\n",
        "grid_search.fit(X_train, y_train)\n",
        "\n",
        "# Print the best parameters and best score\n",
        "print(\"Best Parameters:\", grid_search.best_params_)\n",
        "print(\"Best Mean Absolute Error:\", -grid_search.best_score_)\n",
        "\n",
        "# Get the best model\n",
        "best_dt = grid_search.best_estimator_\n",
        "\n",
        "# Predict using the best model\n",
        "y_pred = best_dt.predict(X_test)\n",
        "\n",
        "# Calculate Mean Absolute Error on test set\n",
        "mae = mean_absolute_error(y_test, y_pred)\n",
        "print(\"Mean Absolute Error on Test Set:\", mae)"
      ]
    },
    {
      "cell_type": "markdown",
      "metadata": {
        "id": "UBhiDyvGHofs"
      },
      "source": [
        "HyperParameter tuning has increased MAE so we drop it"
      ]
    },
    {
      "cell_type": "code",
      "execution_count": 14,
      "metadata": {
        "colab": {
          "base_uri": "https://localhost:8080/"
        },
        "id": "gYuW6HudH3TD",
        "outputId": "49713472-d27c-4730-ec36-683e29ce81ef"
      },
      "outputs": [
        {
          "name": "stdout",
          "output_type": "stream",
          "text": [
            "Mean Absolute Error for DecisionTreeRegressor: 6.666666666666667\n"
          ]
        }
      ],
      "source": [
        "from sklearn.tree import DecisionTreeRegressor\n",
        "from sklearn.metrics import mean_absolute_error\n",
        "\n",
        "# Define the DecisionTreeRegressor\n",
        "regressor_dt = DecisionTreeRegressor(random_state=42)\n",
        "\n",
        "# Train the model\n",
        "regressor_dt.fit(X_train, y_train)\n",
        "\n",
        "# Make predictions on the test set\n",
        "y_pred = regressor_dt.predict(X_test)\n",
        "\n",
        "# Compute Mean Absolute Error (MAE)\n",
        "mae = mean_absolute_error(y_test, y_pred)\n",
        "\n",
        "# Print the Mean Absolute Error\n",
        "print(\"Mean Absolute Error for DecisionTreeRegressor:\", mae)"
      ]
    },
    {
      "cell_type": "code",
      "execution_count": 41,
      "metadata": {
        "colab": {
          "base_uri": "https://localhost:8080/"
        },
        "id": "o9rCA2tliaaF",
        "outputId": "a97f8b9b-5bbc-49cb-9de9-9f9129456791"
      },
      "outputs": [
        {
          "name": "stdout",
          "output_type": "stream",
          "text": [
            "Enter 1 for Male, 0 for Female: 1\n",
            "Enter Age: 30\n",
            "Enter 1 if Sales Representative, 0 otherwise: 0\n",
            "Enter 1 if Software Engineer, 0 otherwise: 1\n",
            "Enter 1 if Teacher, 0 otherwise: 0\n",
            "Enter Physical Activity Level: 30\n",
            "Enter Stress Level: 30\n",
            "Enter 1 if Overweight, 0 otherwise: 1\n",
            "Enter 1 if Obese, 0 otherwise: 0\n",
            "Enter Systolic Blood Pressure: 160\n",
            "Enter Diastolic Blood Pressure: 68\n",
            "Enter Heart Rate: 70\n",
            "Predicted Daily Steps Required (Rounded off to nearest 100): 10000\n"
          ]
        },
        {
          "name": "stderr",
          "output_type": "stream",
          "text": [
            "<ipython-input-41-23fd47156df9>:40: DeprecationWarning: Conversion of an array with ndim > 0 to a scalar is deprecated, and will error in future. Ensure you extract a single element from your array before performing this operation. (Deprecated NumPy 1.25.)\n",
            "  print(\"Predicted Daily Steps Required (Rounded off to nearest 100):\", int(y_pred_rounded))\n"
          ]
        }
      ],
      "source": [
        "import pandas as pd\n",
        "\n",
        "# Take user input for each feature\n",
        "gender = int(input(\"Enter 1 for Male, 0 for Female: \"))\n",
        "age = int(input(\"Enter Age: \"))\n",
        "sales_rep = int(input(\"Enter 1 if Sales Representative, 0 otherwise: \"))\n",
        "software_engineer = int(input(\"Enter 1 if Software Engineer, 0 otherwise: \"))\n",
        "teacher = int(input(\"Enter 1 if Teacher, 0 otherwise: \"))\n",
        "physical_activity_level = int(input(\"Enter Physical Activity Level: \"))\n",
        "stress_level = int(input(\"Enter Stress Level: \"))\n",
        "overweight = int(input(\"Enter 1 if Overweight, 0 otherwise: \"))\n",
        "obese = int(input(\"Enter 1 if Obese, 0 otherwise: \"))\n",
        "systolic_bp = int(input(\"Enter Systolic Blood Pressure: \"))\n",
        "diastolic_bp = int(input(\"Enter Diastolic Blood Pressure: \"))\n",
        "heart_rate = int(input(\"Enter Heart Rate: \"))\n",
        "\n",
        "# Create a DataFrame with user input\n",
        "user_df = pd.DataFrame({\n",
        "    'Gender_Male': [gender],\n",
        "    'Age': [age],\n",
        "    'Occupation_Sales Representative': [sales_rep],\n",
        "    'Occupation_Software Engineer': [software_engineer],\n",
        "    'Occupation_Teacher': [teacher],\n",
        "    'Physical Activity Level': [physical_activity_level],\n",
        "    'Stress Level': [stress_level],\n",
        "    'BMI Category_Overweight': [overweight],\n",
        "    'BMI Category_Obese': [obese],\n",
        "    'Systolic': [systolic_bp],\n",
        "    'Diastolic': [diastolic_bp],\n",
        "    'Heart Rate': [heart_rate]\n",
        "})\n",
        "\n",
        "# Make prediction for Daily Steps using RandomForestRegressor\n",
        "y_pred_rf = regressor_dt.predict(user_df)\n",
        "\n",
        "# Round off the predicted 'Daily Steps' values to the nearest 100 factor\n",
        "y_pred_rounded = np.round(y_pred_rf, -2)\n",
        "\n",
        "# Print the predicted daily steps\n",
        "print(\"\\n\\nPredicted Daily Steps Required (Rounded off to nearest 100):\", int(y_pred_rounded))\n"
      ]
    }
  ],
  "metadata": {
    "colab": {
      "provenance": []
    },
    "kernelspec": {
      "display_name": "Python 3",
      "name": "python3"
    },
    "language_info": {
      "name": "python"
    }
  },
  "nbformat": 4,
  "nbformat_minor": 0
}
